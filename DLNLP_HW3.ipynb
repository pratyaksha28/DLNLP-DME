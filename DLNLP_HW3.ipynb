{
  "nbformat": 4,
  "nbformat_minor": 5,
  "metadata": {
    "kernelspec": {
      "display_name": "Python 3",
      "language": "python",
      "name": "python3"
    },
    "language_info": {
      "codemirror_mode": {
        "name": "ipython",
        "version": 3
      },
      "file_extension": ".py",
      "mimetype": "text/x-python",
      "name": "python",
      "nbconvert_exporter": "python",
      "pygments_lexer": "ipython3",
      "version": "3.8.8"
    },
    "colab": {
      "provenance": []
    },
    "accelerator": "GPU"
  },
  "cells": [
    {
      "cell_type": "code",
      "metadata": {
        "collapsed": true,
        "colab": {
          "base_uri": "https://localhost:8080/"
        },
        "id": "1a1b6fee",
        "outputId": "2788914b-7e61-4919-a199-d58694ec97aa"
      },
      "source": [
        "from google.colab import drive\n",
        "drive.mount(\"/content/drive\")\n"
      ],
      "id": "1a1b6fee",
      "execution_count": null,
      "outputs": [
        {
          "output_type": "stream",
          "name": "stdout",
          "text": [
            "Mounted at /content/drive\n"
          ]
        }
      ]
    },
    {
      "cell_type": "code",
      "metadata": {
        "id": "b0d3558a"
      },
      "source": [
        "import pandas as pd\n",
        "import string\n",
        "import itertools\n",
        "import numpy as np\n",
        "import pandas as pd\n",
        "import matplotlib.pyplot as plt\n",
        "from tqdm import tqdm_notebook as tqdm\n",
        "\n",
        "from gensim.models import *\n",
        "import gensim.downloader\n",
        "\n",
        "import tensorflow as tf\n",
        "from tensorflow.keras.utils import *\n",
        "from tensorflow.keras.layers import *\n",
        "from tensorflow.keras.models import *\n",
        "import tensorflow.keras.backend as K\n",
        "from tensorflow.keras.preprocessing.text import Tokenizer\n",
        "from tensorflow.keras.preprocessing.sequence import pad_sequences\n",
        "\n",
        "from sklearn.model_selection import train_test_split\n",
        "from sklearn.metrics import classification_report, confusion_matrix"
      ],
      "id": "b0d3558a",
      "execution_count": null,
      "outputs": []
    },
    {
      "cell_type": "code",
      "metadata": {
        "id": "458e6440"
      },
      "source": [
        "with open(\"/content/drive/MyDrive/DLNLP/rt-polarity.pos\",encoding='latin-1') as f:\n",
        "    pos = [line.rstrip() for line in f]\n",
        "    \n",
        "with open(\"/content/drive/MyDrive/DLNLP/rt-polarity.neg\",encoding='latin-1') as f:\n",
        "    neg = [line.rstrip() for line in f]\n",
        "    \n",
        "\n",
        "\n",
        "pos = pd.DataFrame(pos)\n",
        "neg = pd.DataFrame(neg)\n",
        "\n",
        "zeros = [0] * 5331\n",
        "ones = [1] * 5331\n",
        "pos = pd.concat((pos,pd.DataFrame(ones)),axis=1)\n",
        "neg = pd.concat((neg,pd.DataFrame(zeros)),axis=1)\n",
        "\n",
        "df_train = pd.concat((pos[0:4500],neg[0:4500]))\n",
        "df_test = pd.concat((pos[4500:],neg[4500:]))\n",
        "\n",
        "df_train.columns = ['text','class']\n",
        "df_test.columns = ['text','class']\n",
        "\n",
        "df_train['text'] = df_train.text.str.lower().str.replace(r'['+string.digits+string.punctuation+']', ' ')\n",
        "df_train['text'] = df_train['text'].apply(lambda x: x.split())\n"
      ],
      "id": "458e6440",
      "execution_count": null,
      "outputs": []
    },
    {
      "cell_type": "code",
      "metadata": {
        "colab": {
          "base_uri": "https://localhost:8080/"
        },
        "id": "yjX4eYirv4Hy",
        "outputId": "a6a66aad-33ba-4b70-c3b2-85115a53e529"
      },
      "source": [
        "max = 0\n",
        "txt = ''\n",
        "for i in range(9000):\n",
        "  if (len(df_train.iloc[i]['text']) >max):\n",
        "    max = len(df_train.iloc[i]['text'])\n",
        "    txt = df_train.iloc[i]['text']\n",
        "              \n",
        "print(txt,max)"
      ],
      "id": "yjX4eYirv4Hy",
      "execution_count": null,
      "outputs": [
        {
          "output_type": "stream",
          "name": "stdout",
          "text": [
            "['it', 'won', 't', 'harm', 'anyone', 'but', 'neither', 'can', 'i', 'think', 'of', 'a', 'very', 'good', 'reason', 'to', 'rush', 'right', 'out', 'and', 'see', 'it', 'after', 'all', 'it', 'll', 'probably', 'be', 'in', 'video', 'stores', 'by', 'christmas', 'and', 'it', 'might', 'just', 'be', 'better', 'suited', 'to', 'a', 'night', 'in', 'the', 'living', 'room', 'than', 'a', 'night', 'at', 'the', 'movies'] 53\n"
          ]
        }
      ]
    },
    {
      "cell_type": "code",
      "metadata": {
        "colab": {
          "base_uri": "https://localhost:8080/"
        },
        "id": "-ImzAigBoBB3",
        "outputId": "63195f93-fd39-4764-837e-71c9b188c51c"
      },
      "source": [
        "gv = gensim.downloader.load('glove-wiki-gigaword-300')"
      ],
      "id": "-ImzAigBoBB3",
      "execution_count": null,
      "outputs": [
        {
          "output_type": "stream",
          "name": "stdout",
          "text": [
            "[==================================================] 100.0% 376.1/376.1MB downloaded\n"
          ]
        }
      ]
    },
    {
      "cell_type": "code",
      "metadata": {
        "colab": {
          "base_uri": "https://localhost:8080/"
        },
        "id": "4T9wrEzVoz9X",
        "outputId": "3ee6efed-72aa-4baa-f1a5-34682354a445"
      },
      "source": [
        "w2v = gensim.downloader.load('word2vec-google-news-300') "
      ],
      "id": "4T9wrEzVoz9X",
      "execution_count": null,
      "outputs": [
        {
          "output_type": "stream",
          "name": "stdout",
          "text": [
            "[==================================================] 100.0% 1662.8/1662.8MB downloaded\n"
          ]
        }
      ]
    },
    {
      "cell_type": "code",
      "metadata": {
        "colab": {
          "base_uri": "https://localhost:8080/"
        },
        "id": "-bpPqf3epMed",
        "outputId": "abd1799b-d53a-4dbf-fed8-27be9555acd7"
      },
      "source": [
        "ft = gensim.downloader.load('fasttext-wiki-news-subwords-300') "
      ],
      "id": "-bpPqf3epMed",
      "execution_count": null,
      "outputs": [
        {
          "output_type": "stream",
          "name": "stdout",
          "text": [
            "[==================================================] 100.0% 958.5/958.4MB downloaded\n"
          ]
        }
      ]
    },
    {
      "cell_type": "code",
      "metadata": {
        "id": "QckSM1QAor0I"
      },
      "source": [
        "es = 300 ## embedding size"
      ],
      "id": "QckSM1QAor0I",
      "execution_count": null,
      "outputs": []
    },
    {
      "cell_type": "code",
      "metadata": {
        "colab": {
          "base_uri": "https://localhost:8080/"
        },
        "id": "4373c4a8",
        "outputId": "20ba8e4c-12cb-4408-dc5d-bd32ffcb2936"
      },
      "source": [
        "str_len = 53\n",
        "tz = Tokenizer(lower=True)\n",
        "tz.fit_on_texts(df_train['text'])\n",
        "X_train = tz.texts_to_sequences(df_train['text'])\n",
        "X_train = pad_sequences(X_train, maxlen=str_len)\n",
        "X_train = np.asarray(X_train)\n",
        "print(X_train.shape)\n",
        "\n"
      ],
      "id": "4373c4a8",
      "execution_count": null,
      "outputs": [
        {
          "output_type": "stream",
          "name": "stdout",
          "text": [
            "(9000, 53)\n"
          ]
        }
      ]
    },
    {
      "cell_type": "code",
      "metadata": {
        "colab": {
          "base_uri": "https://localhost:8080/"
        },
        "id": "1NTsH5dIgkww",
        "outputId": "26db038d-0430-498f-9076-0cadb2768935"
      },
      "source": [
        "X_test = tz.texts_to_sequences(df_test['text'])\n",
        "X_test = pad_sequences(X_test, maxlen=str_len)\n",
        "X_test = np.asarray(X_test)\n",
        "print(X_test.shape)"
      ],
      "id": "1NTsH5dIgkww",
      "execution_count": null,
      "outputs": [
        {
          "output_type": "stream",
          "name": "stdout",
          "text": [
            "(1662, 53)\n"
          ]
        }
      ]
    },
    {
      "cell_type": "code",
      "metadata": {
        "colab": {
          "base_uri": "https://localhost:8080/"
        },
        "id": "4c5aaffe",
        "outputId": "7e4afa86-abfc-40c3-e8f1-80d3b3059969"
      },
      "source": [
        "       \n",
        "gv_embedding = np.random.random((len(tz.word_index) + 1, es))\n",
        "w2v_embedding = np.random.random((len(tz.word_index) + 1, es))\n",
        "ft_embedding = np.random.random((len(tz.word_index) + 1, es))\n",
        "\n",
        "for word,i in tz.word_index.items():\n",
        "    try:\n",
        "      gv_embedding[i] = gv.wv[word]\n",
        "    except:\n",
        "      gv_embedding[i] = np.zeros((es,))\n",
        "    try:\n",
        "      w2v_embedding[i] = w2v.wv[word]\n",
        "    except:\n",
        "      w2v_embedding[i] = np.zeros((es,))\n",
        "    try:\n",
        "      ft_embedding[i] = ft.wv[word]\n",
        "    except:\n",
        "      ft_embedding[i] = np.zeros((es,))\n"
      ],
      "id": "4c5aaffe",
      "execution_count": null,
      "outputs": [
        {
          "output_type": "stream",
          "name": "stderr",
          "text": [
            "/usr/local/lib/python3.7/dist-packages/ipykernel_launcher.py:8: DeprecationWarning: Call to deprecated `wv` (Attribute will be removed in 4.0.0, use self instead).\n",
            "  \n",
            "/usr/local/lib/python3.7/dist-packages/ipykernel_launcher.py:12: DeprecationWarning: Call to deprecated `wv` (Attribute will be removed in 4.0.0, use self instead).\n",
            "  if sys.path[0] == '':\n",
            "/usr/local/lib/python3.7/dist-packages/ipykernel_launcher.py:16: DeprecationWarning: Call to deprecated `wv` (Attribute will be removed in 4.0.0, use self instead).\n",
            "  app.launch_new_instance()\n"
          ]
        }
      ]
    },
    {
      "cell_type": "code",
      "metadata": {
        "id": "hYlMhvI2cC_-"
      },
      "source": [
        "def ProjEmbLayer(embeddings, str_len):\n",
        "    \n",
        "    inputs = []\n",
        "    output = []\n",
        "    inp = Input(shape=(str_len,))\n",
        "    for embedding in embeddings:  \n",
        "        emb = Embedding(len(tz.word_index) + 1, es, weights=[embedding], trainable=False)(inp)\n",
        "        emb = Reshape((-1,es,1))(emb)\n",
        "        proj = projection(str_len)\n",
        "        x = proj(Reshape((-1,es))(emb))\n",
        "        output.append(Reshape((-1,es,1))(x))    \n",
        "    return Model(inp, Concatenate(axis=-1)(output))\n"
      ],
      "id": "hYlMhvI2cC_-",
      "execution_count": null,
      "outputs": []
    },
    {
      "cell_type": "code",
      "metadata": {
        "id": "eVOI32NyoEaY"
      },
      "source": [
        "def EmbLayer(embeddings, str_len):\n",
        "    \n",
        "    inputs = []\n",
        "    output = []\n",
        "    inp = Input(shape=(str_len,))\n",
        "    for embedding in embeddings:  \n",
        "        \n",
        "        emb = Embedding(len(tz.word_index) + 1, es, weights=[embedding], trainable=False)(inp)\n",
        "        emb = Reshape((-1,es,1))(emb)\n",
        "        \n",
        "        output.append(emb)    \n",
        "    return Model(inp, Concatenate(axis=-1)(output))\n"
      ],
      "id": "eVOI32NyoEaY",
      "execution_count": null,
      "outputs": []
    },
    {
      "cell_type": "code",
      "metadata": {
        "id": "-WUvw9Lyg0dG"
      },
      "source": [
        "\n",
        "def projection(str_len):\n",
        "\n",
        "    inp = Input(shape=(str_len, es))\n",
        "    out = Dense(es,activation=None)(inp)\n",
        "\n",
        "    return Model(inp, out)\n",
        "\n",
        "def myDynamicMetaEmbedding(str_len):\n",
        "    inp = Input(shape=(str_len, es, n))\n",
        "    proj2mul  = Reshape((str_len, es,n))(inp)    ## (None, 30, 300, 3)\n",
        "    proj = Permute((1,3, 2)) (proj2mul)          ## (None, 30, 3, 300)\n",
        "    alphas = Dense(1,activation=None)(proj)      ## (None, 30, 3, 1)\n",
        "    alphas = Activation('softmax')(alphas)       ## (None, 30, 3, 1)\n",
        "    alphas2mul = Permute((1,3, 2)) (alphas)      ## (None, 30, 1, 3)\n",
        "    x = multiply([proj2mul, alphas2mul])         ## (None, 30, 300, 3)\n",
        "    out = Lambda(lambda t: K.sum(t, axis=-1))(x) ## (None, 30, 300)\n",
        "    print('Out',out.shape)                      \n",
        "\n",
        "    return Model(inp, out)\n",
        "\n",
        "### WRONG ###\n",
        "\n",
        "    # proj = Reshape((maxlen, es,n))(temp)\n",
        "    # alphas = Dense(n,activation=None)(temp)\n",
        "    # alphas = Activation('softmax')(alphas)\n",
        "    # alphas = Reshape((maxlen,1,n))(alphas)\n",
        "    # x = multiply([proj,alphas])\n",
        "    # out = Lambda(lambda t: K.sum(t, axis=-1))(x)\n",
        "\n",
        "    \n",
        "    "
      ],
      "id": "-WUvw9Lyg0dG",
      "execution_count": null,
      "outputs": []
    },
    {
      "cell_type": "code",
      "metadata": {
        "colab": {
          "base_uri": "https://localhost:8080/"
        },
        "id": "o2AQBsCvxQnA",
        "outputId": "8891ea39-5303-418a-d762-6c1500caabb7"
      },
      "source": [
        "n=3\n",
        "embLayer = ProjEmbLayer([w2v_embedding,gv_embedding, ft_embedding], str_len)\n",
        "dme = myDynamicMetaEmbedding(str_len)\n",
        "x = dme(embLayer.output)\n",
        "x = LSTM(64)(x)\n",
        "out = Dense(2, activation='sigmoid')(x)\n",
        "\n",
        "model = Model(embLayer.input, out)\n",
        "model.compile(loss='sparse_categorical_crossentropy', optimizer='rmsprop', metrics=['accuracy'])\n",
        "\n",
        "model.summary()\n",
        "\n",
        "callback = tf.keras.callbacks.EarlyStopping(monitor='val_loss', patience=3)\n",
        "history = model.fit(X_train, df_train['class'], batch_size=64, epochs=10, verbose=1, validation_split=0.1,callbacks=[callback])\n",
        "\n",
        "\n",
        "print(\"TEST SET\",model.evaluate(X_test, df_test['class']))"
      ],
      "id": "o2AQBsCvxQnA",
      "execution_count": null,
      "outputs": [
        {
          "output_type": "stream",
          "name": "stdout",
          "text": [
            "Out (None, 53, 300)\n",
            "Model: \"model_21\"\n",
            "__________________________________________________________________________________________________\n",
            "Layer (type)                    Output Shape         Param #     Connected to                     \n",
            "==================================================================================================\n",
            "input_18 (InputLayer)           [(None, 53)]         0                                            \n",
            "__________________________________________________________________________________________________\n",
            "embedding_9 (Embedding)         (None, 53, 300)      5030400     input_18[0][0]                   \n",
            "__________________________________________________________________________________________________\n",
            "embedding_10 (Embedding)        (None, 53, 300)      5030400     input_18[0][0]                   \n",
            "__________________________________________________________________________________________________\n",
            "embedding_11 (Embedding)        (None, 53, 300)      5030400     input_18[0][0]                   \n",
            "__________________________________________________________________________________________________\n",
            "reshape_29 (Reshape)            (None, 53, 300, 1)   0           embedding_9[0][0]                \n",
            "__________________________________________________________________________________________________\n",
            "reshape_32 (Reshape)            (None, 53, 300, 1)   0           embedding_10[0][0]               \n",
            "__________________________________________________________________________________________________\n",
            "reshape_35 (Reshape)            (None, 53, 300, 1)   0           embedding_11[0][0]               \n",
            "__________________________________________________________________________________________________\n",
            "reshape_30 (Reshape)            (None, 53, 300)      0           reshape_29[0][0]                 \n",
            "__________________________________________________________________________________________________\n",
            "reshape_33 (Reshape)            (None, 53, 300)      0           reshape_32[0][0]                 \n",
            "__________________________________________________________________________________________________\n",
            "reshape_36 (Reshape)            (None, 53, 300)      0           reshape_35[0][0]                 \n",
            "__________________________________________________________________________________________________\n",
            "model_16 (Functional)           (None, 53, 300)      90300       reshape_30[0][0]                 \n",
            "__________________________________________________________________________________________________\n",
            "model_17 (Functional)           (None, 53, 300)      90300       reshape_33[0][0]                 \n",
            "__________________________________________________________________________________________________\n",
            "model_18 (Functional)           (None, 53, 300)      90300       reshape_36[0][0]                 \n",
            "__________________________________________________________________________________________________\n",
            "reshape_31 (Reshape)            (None, 53, 300, 1)   0           model_16[0][0]                   \n",
            "__________________________________________________________________________________________________\n",
            "reshape_34 (Reshape)            (None, 53, 300, 1)   0           model_17[0][0]                   \n",
            "__________________________________________________________________________________________________\n",
            "reshape_37 (Reshape)            (None, 53, 300, 1)   0           model_18[0][0]                   \n",
            "__________________________________________________________________________________________________\n",
            "concatenate_3 (Concatenate)     (None, 53, 300, 3)   0           reshape_31[0][0]                 \n",
            "                                                                 reshape_34[0][0]                 \n",
            "                                                                 reshape_37[0][0]                 \n",
            "__________________________________________________________________________________________________\n",
            "model_20 (Functional)           (None, 53, 300)      301         concatenate_3[0][0]              \n",
            "__________________________________________________________________________________________________\n",
            "lstm_2 (LSTM)                   (None, 64)           93440       model_20[0][0]                   \n",
            "__________________________________________________________________________________________________\n",
            "dense_17 (Dense)                (None, 2)            130         lstm_2[0][0]                     \n",
            "==================================================================================================\n",
            "Total params: 15,455,971\n",
            "Trainable params: 364,771\n",
            "Non-trainable params: 15,091,200\n",
            "__________________________________________________________________________________________________\n",
            "Epoch 1/10\n",
            "127/127 [==============================] - 7s 30ms/step - loss: 0.5512 - accuracy: 0.7038 - val_loss: 0.4928 - val_accuracy: 0.7789\n",
            "Epoch 2/10\n",
            "127/127 [==============================] - 3s 24ms/step - loss: 0.4379 - accuracy: 0.7905 - val_loss: 0.2492 - val_accuracy: 0.9122\n",
            "Epoch 3/10\n",
            "127/127 [==============================] - 3s 24ms/step - loss: 0.3728 - accuracy: 0.8319 - val_loss: 0.6250 - val_accuracy: 0.6756\n",
            "Epoch 4/10\n",
            "127/127 [==============================] - 3s 24ms/step - loss: 0.3142 - accuracy: 0.8600 - val_loss: 0.5186 - val_accuracy: 0.7733\n",
            "Epoch 5/10\n",
            "127/127 [==============================] - 3s 24ms/step - loss: 0.2559 - accuracy: 0.8946 - val_loss: 0.2566 - val_accuracy: 0.8967\n",
            "52/52 [==============================] - 1s 9ms/step - loss: 0.5417 - accuracy: 0.7732\n",
            "TEST SET [0.5416567325592041, 0.7731648683547974]\n"
          ]
        }
      ]
    },
    {
      "cell_type": "code",
      "metadata": {
        "colab": {
          "base_uri": "https://localhost:8080/"
        },
        "id": "vVKXnmXYoP7I",
        "outputId": "692c13a6-d984-45f3-b0ad-ecc8aca6e362"
      },
      "source": [
        "n=3\n",
        "embLayer = ProjEmbLayer([w2v_embedding,gv_embedding, ft_embedding], str_len)\n",
        "dme = myDynamicMetaEmbedding(str_len)\n",
        "x = dme(embLayer.output)\n",
        "x = GRU(64)(x)\n",
        "out = Dense(2, activation='sigmoid')(x)\n",
        "\n",
        "model = Model(embLayer.input, out)\n",
        "model.compile(loss='sparse_categorical_crossentropy', optimizer='rmsprop', metrics=['accuracy'])\n",
        "\n",
        "model.summary()\n",
        "\n",
        "callback = tf.keras.callbacks.EarlyStopping(monitor='val_loss', patience=3)\n",
        "history = model.fit([X_train]*n, df_train['class'], batch_size=64, epochs=10, verbose=1, validation_split=0.1,callbacks=[callback])\n",
        "\n",
        "# plt.plot(history.history['loss'])\n",
        "# plt.plot(history.history['val_loss'])\n",
        "# plt.title('model loss')\n",
        "# plt.ylabel('loss')\n",
        "# plt.xlabel('epoch')\n",
        "# plt.legend(['train', 'validation'], loc='upper left')\n",
        "# plt.show()\n",
        "\n",
        "print(\"TEST SET\",model.evaluate([X_test]*n, df_test['class']))"
      ],
      "id": "vVKXnmXYoP7I",
      "execution_count": null,
      "outputs": [
        {
          "output_type": "stream",
          "name": "stdout",
          "text": [
            "Out (None, 30, 300)\n",
            "Model: \"model_65\"\n",
            "__________________________________________________________________________________________________\n",
            "Layer (type)                    Output Shape         Param #     Connected to                     \n",
            "==================================================================================================\n",
            "input_71 (InputLayer)           [(None, 30)]         0                                            \n",
            "__________________________________________________________________________________________________\n",
            "input_73 (InputLayer)           [(None, 30)]         0                                            \n",
            "__________________________________________________________________________________________________\n",
            "input_75 (InputLayer)           [(None, 30)]         0                                            \n",
            "__________________________________________________________________________________________________\n",
            "embedding_30 (Embedding)        (None, 30, 300)      5843700     input_71[0][0]                   \n",
            "__________________________________________________________________________________________________\n",
            "embedding_31 (Embedding)        (None, 30, 300)      5843700     input_73[0][0]                   \n",
            "__________________________________________________________________________________________________\n",
            "embedding_32 (Embedding)        (None, 30, 300)      5843700     input_75[0][0]                   \n",
            "__________________________________________________________________________________________________\n",
            "reshape_100 (Reshape)           (None, 30, 300, 1)   0           embedding_30[0][0]               \n",
            "__________________________________________________________________________________________________\n",
            "reshape_103 (Reshape)           (None, 30, 300, 1)   0           embedding_31[0][0]               \n",
            "__________________________________________________________________________________________________\n",
            "reshape_106 (Reshape)           (None, 30, 300, 1)   0           embedding_32[0][0]               \n",
            "__________________________________________________________________________________________________\n",
            "reshape_101 (Reshape)           (None, 30, 300)      0           reshape_100[0][0]                \n",
            "__________________________________________________________________________________________________\n",
            "reshape_104 (Reshape)           (None, 30, 300)      0           reshape_103[0][0]                \n",
            "__________________________________________________________________________________________________\n",
            "reshape_107 (Reshape)           (None, 30, 300)      0           reshape_106[0][0]                \n",
            "__________________________________________________________________________________________________\n",
            "model_60 (Functional)           (None, 30, 300)      90300       reshape_101[0][0]                \n",
            "__________________________________________________________________________________________________\n",
            "model_61 (Functional)           (None, 30, 300)      90300       reshape_104[0][0]                \n",
            "__________________________________________________________________________________________________\n",
            "model_62 (Functional)           (None, 30, 300)      90300       reshape_107[0][0]                \n",
            "__________________________________________________________________________________________________\n",
            "reshape_102 (Reshape)           (None, 30, 300, 1)   0           model_60[0][0]                   \n",
            "__________________________________________________________________________________________________\n",
            "reshape_105 (Reshape)           (None, 30, 300, 1)   0           model_61[0][0]                   \n",
            "__________________________________________________________________________________________________\n",
            "reshape_108 (Reshape)           (None, 30, 300, 1)   0           model_62[0][0]                   \n",
            "__________________________________________________________________________________________________\n",
            "concatenate_10 (Concatenate)    (None, 30, 300, 3)   0           reshape_102[0][0]                \n",
            "                                                                 reshape_105[0][0]                \n",
            "                                                                 reshape_108[0][0]                \n",
            "__________________________________________________________________________________________________\n",
            "model_64 (Functional)           (None, 30, 300)      301         concatenate_10[0][0]             \n",
            "__________________________________________________________________________________________________\n",
            "gru_4 (GRU)                     (None, 64)           70272       model_64[0][0]                   \n",
            "__________________________________________________________________________________________________\n",
            "dense_54 (Dense)                (None, 2)            130         gru_4[0][0]                      \n",
            "==================================================================================================\n",
            "Total params: 17,872,703\n",
            "Trainable params: 341,603\n",
            "Non-trainable params: 17,531,100\n",
            "__________________________________________________________________________________________________\n",
            "Epoch 1/10\n",
            "127/127 [==============================] - 6s 25ms/step - loss: 0.5798 - accuracy: 0.6907 - val_loss: 0.3887 - val_accuracy: 0.8500\n",
            "Epoch 2/10\n",
            "127/127 [==============================] - 3s 20ms/step - loss: 0.4311 - accuracy: 0.7960 - val_loss: 0.5911 - val_accuracy: 0.7056\n",
            "Epoch 3/10\n",
            "127/127 [==============================] - 2s 20ms/step - loss: 0.3701 - accuracy: 0.8337 - val_loss: 0.5308 - val_accuracy: 0.7367\n",
            "Epoch 4/10\n",
            "127/127 [==============================] - 3s 20ms/step - loss: 0.3080 - accuracy: 0.8679 - val_loss: 0.3745 - val_accuracy: 0.8322\n",
            "Epoch 5/10\n",
            "127/127 [==============================] - 2s 20ms/step - loss: 0.2474 - accuracy: 0.8991 - val_loss: 0.5232 - val_accuracy: 0.7744\n",
            "Epoch 6/10\n",
            "127/127 [==============================] - 2s 19ms/step - loss: 0.1836 - accuracy: 0.9309 - val_loss: 0.5389 - val_accuracy: 0.7889\n",
            "Epoch 7/10\n",
            "127/127 [==============================] - 2s 19ms/step - loss: 0.1231 - accuracy: 0.9560 - val_loss: 1.1799 - val_accuracy: 0.6333\n",
            "52/52 [==============================] - 0s 8ms/step - loss: 0.7509 - accuracy: 0.7485\n",
            "TEST SET [0.7509273290634155, 0.7484958171844482]\n"
          ]
        }
      ]
    },
    {
      "cell_type": "code",
      "metadata": {
        "colab": {
          "base_uri": "https://localhost:8080/"
        },
        "id": "vbXpwBsCkdP9",
        "outputId": "da96a790-2abf-4f65-ceb8-3a2af9fde63e"
      },
      "source": [
        "n=1\n",
        "embLayer = EmbLayer([w2v_embedding], str_len)\n",
        "x = Reshape((str_len,es))(embLayer.output)\n",
        "print(x.shape)\n",
        "x = LSTM(128, dropout=0.2,return_sequences=True)(x)\n",
        "x = LSTM(32)(x)\n",
        "out = Dense(2, activation='sigmoid')(x)\n",
        "\n",
        "w2v_model = Model(embLayer.input, out)\n",
        "w2v_model.compile(loss='sparse_categorical_crossentropy', optimizer='rmsprop', metrics=['accuracy'])\n",
        "\n",
        "w2v_model.summary()\n",
        "\n",
        "callback = tf.keras.callbacks.EarlyStopping(monitor='val_loss', patience=3)\n",
        "histor = w2v_model.fit(X_train, df_train['class'], batch_size=64, epochs=10, verbose=1, validation_split=0.1,callbacks=[callback])\n",
        "# plt.plot(history.history['loss'])\n",
        "# plt.plot(history.history['val_loss'])\n",
        "# plt.title('model loss')\n",
        "# plt.ylabel('loss')\n",
        "# plt.xlabel('epoch')\n",
        "# plt.legend(['train', 'validation'], loc='upper left')\n",
        "# plt.show()\n",
        "\n",
        "print(\"TEST SET\",w2v_model.evaluate(X_test, df_test['class']))"
      ],
      "id": "vbXpwBsCkdP9",
      "execution_count": null,
      "outputs": [
        {
          "output_type": "stream",
          "name": "stdout",
          "text": [
            "(None, 53, 300)\n",
            "Model: \"model_31\"\n",
            "_________________________________________________________________\n",
            "Layer (type)                 Output Shape              Param #   \n",
            "=================================================================\n",
            "input_27 (InputLayer)        [(None, 53)]              0         \n",
            "_________________________________________________________________\n",
            "embedding_16 (Embedding)     (None, 53, 300)           5030400   \n",
            "_________________________________________________________________\n",
            "reshape_47 (Reshape)         (None, 53, 300, 1)        0         \n",
            "_________________________________________________________________\n",
            "concatenate_8 (Concatenate)  (None, 53, 300, 1)        0         \n",
            "_________________________________________________________________\n",
            "reshape_48 (Reshape)         (None, 53, 300)           0         \n",
            "_________________________________________________________________\n",
            "lstm_11 (LSTM)               (None, 53, 128)           219648    \n",
            "_________________________________________________________________\n",
            "lstm_12 (LSTM)               (None, 32)                20608     \n",
            "_________________________________________________________________\n",
            "dense_22 (Dense)             (None, 2)                 66        \n",
            "=================================================================\n",
            "Total params: 5,270,722\n",
            "Trainable params: 240,322\n",
            "Non-trainable params: 5,030,400\n",
            "_________________________________________________________________\n",
            "Epoch 1/10\n",
            "127/127 [==============================] - 9s 39ms/step - loss: 0.5754 - accuracy: 0.6954 - val_loss: 0.4172 - val_accuracy: 0.8489\n",
            "Epoch 2/10\n",
            "127/127 [==============================] - 4s 32ms/step - loss: 0.4850 - accuracy: 0.7610 - val_loss: 0.4134 - val_accuracy: 0.8100\n",
            "Epoch 3/10\n",
            "127/127 [==============================] - 4s 32ms/step - loss: 0.4553 - accuracy: 0.7799 - val_loss: 0.3935 - val_accuracy: 0.8467\n",
            "Epoch 4/10\n",
            "127/127 [==============================] - 4s 32ms/step - loss: 0.4357 - accuracy: 0.7932 - val_loss: 0.4742 - val_accuracy: 0.7844\n",
            "Epoch 5/10\n",
            "127/127 [==============================] - 4s 32ms/step - loss: 0.4186 - accuracy: 0.8041 - val_loss: 0.3834 - val_accuracy: 0.8522\n",
            "Epoch 6/10\n",
            "127/127 [==============================] - 4s 32ms/step - loss: 0.4024 - accuracy: 0.8152 - val_loss: 0.3600 - val_accuracy: 0.8422\n",
            "Epoch 7/10\n",
            "127/127 [==============================] - 4s 32ms/step - loss: 0.3855 - accuracy: 0.8148 - val_loss: 0.6466 - val_accuracy: 0.6922\n",
            "Epoch 8/10\n",
            "127/127 [==============================] - 4s 32ms/step - loss: 0.3662 - accuracy: 0.8291 - val_loss: 0.4847 - val_accuracy: 0.7711\n",
            "Epoch 9/10\n",
            "127/127 [==============================] - 4s 32ms/step - loss: 0.3510 - accuracy: 0.8386 - val_loss: 0.5781 - val_accuracy: 0.6978\n",
            "52/52 [==============================] - 1s 11ms/step - loss: 0.4922 - accuracy: 0.7497\n",
            "TEST SET [0.4922378361225128, 0.7496991753578186]\n"
          ]
        }
      ]
    },
    {
      "cell_type": "code",
      "metadata": {
        "colab": {
          "base_uri": "https://localhost:8080/"
        },
        "id": "Spauo477gykG",
        "outputId": "0b9c7eb1-10f2-4560-8c5f-a1776ac99922"
      },
      "source": [
        "n=1\n",
        "embLayer = EmbLayer([gv_embedding], str_len)\n",
        "x = Reshape((str_len,es))(embLayer.output)\n",
        "print(x.shape)\n",
        "x = LSTM(128, dropout=0.2,return_sequences=True)(x)\n",
        "x = LSTM(32)(x)\n",
        "out = Dense(2, activation='sigmoid')(x)\n",
        "\n",
        "gv_model = Model(embLayer.input, out)\n",
        "gv_model.compile(loss='sparse_categorical_crossentropy', optimizer='rmsprop', metrics=['accuracy'])\n",
        "\n",
        "gv_model.summary()\n",
        "\n",
        "callback = tf.keras.callbacks.EarlyStopping(monitor='val_loss', patience=3)\n",
        "history = gv_model.fit(X_train, df_train['class'], batch_size=64, epochs=10, verbose=1, validation_split=0.1,callbacks=[callback])\n",
        "\n",
        "# plt.plot(history.history['loss'])\n",
        "# plt.plot(history.history['val_loss'])\n",
        "# plt.title('model loss')\n",
        "# plt.ylabel('loss')\n",
        "# plt.xlabel('epoch')\n",
        "# plt.legend(['train', 'validation'], loc='upper left')\n",
        "# plt.show()\n",
        "\n",
        "print(\"TEST SET\",gv_model.evaluate(X_test, df_test['class']))\n"
      ],
      "id": "Spauo477gykG",
      "execution_count": null,
      "outputs": [
        {
          "output_type": "stream",
          "name": "stdout",
          "text": [
            "(None, 53, 300)\n",
            "Model: \"model_27\"\n",
            "_________________________________________________________________\n",
            "Layer (type)                 Output Shape              Param #   \n",
            "=================================================================\n",
            "input_25 (InputLayer)        [(None, 53)]              0         \n",
            "_________________________________________________________________\n",
            "embedding_14 (Embedding)     (None, 53, 300)           5030400   \n",
            "_________________________________________________________________\n",
            "reshape_43 (Reshape)         (None, 53, 300, 1)        0         \n",
            "_________________________________________________________________\n",
            "concatenate_6 (Concatenate)  (None, 53, 300, 1)        0         \n",
            "_________________________________________________________________\n",
            "reshape_44 (Reshape)         (None, 53, 300)           0         \n",
            "_________________________________________________________________\n",
            "lstm_7 (LSTM)                (None, 53, 128)           219648    \n",
            "_________________________________________________________________\n",
            "lstm_8 (LSTM)                (None, 32)                20608     \n",
            "_________________________________________________________________\n",
            "dense_20 (Dense)             (None, 2)                 66        \n",
            "=================================================================\n",
            "Total params: 5,270,722\n",
            "Trainable params: 240,322\n",
            "Non-trainable params: 5,030,400\n",
            "_________________________________________________________________\n",
            "Epoch 1/10\n",
            "127/127 [==============================] - 8s 39ms/step - loss: 0.5793 - accuracy: 0.6877 - val_loss: 0.6913 - val_accuracy: 0.5867\n",
            "Epoch 2/10\n",
            "127/127 [==============================] - 4s 32ms/step - loss: 0.4933 - accuracy: 0.7564 - val_loss: 0.3994 - val_accuracy: 0.8556\n",
            "Epoch 3/10\n",
            "127/127 [==============================] - 4s 32ms/step - loss: 0.4576 - accuracy: 0.7743 - val_loss: 0.7751 - val_accuracy: 0.5244\n",
            "Epoch 4/10\n",
            "127/127 [==============================] - 4s 32ms/step - loss: 0.4216 - accuracy: 0.7980 - val_loss: 0.5502 - val_accuracy: 0.6989\n",
            "Epoch 5/10\n",
            "127/127 [==============================] - 4s 32ms/step - loss: 0.3895 - accuracy: 0.8172 - val_loss: 0.4949 - val_accuracy: 0.7300\n",
            "52/52 [==============================] - 1s 11ms/step - loss: 0.4823 - accuracy: 0.7593\n",
            "TEST SET [0.4822734296321869, 0.7593261003494263]\n"
          ]
        }
      ]
    },
    {
      "cell_type": "code",
      "metadata": {
        "colab": {
          "base_uri": "https://localhost:8080/"
        },
        "id": "iOeL1v8cg5OQ",
        "outputId": "c549d273-3c8b-485b-bb18-c3857aa99ad2"
      },
      "source": [
        "n=1\n",
        "\n",
        "embLayer = EmbLayer([ft_embedding], str_len)\n",
        "x = Reshape((str_len,es))(embLayer.output)\n",
        "print(x.shape)\n",
        "x = LSTM(128, dropout=0.2,return_sequences=True)(x)\n",
        "x = LSTM(32)(x)\n",
        "out = Dense(2, activation='sigmoid')(x)\n",
        "\n",
        "ft_model = Model(embLayer.input, out)\n",
        "ft_model.compile(loss='sparse_categorical_crossentropy', optimizer='rmsprop', metrics=['accuracy'])\n",
        "\n",
        "ft_model.summary()\n",
        "\n",
        "callback = tf.keras.callbacks.EarlyStopping(monitor='val_loss', patience=3)\n",
        "history = ft_model.fit(X_train, df_train['class'], batch_size=64, epochs=10, verbose=1, validation_split=0.1,callbacks=[callback])\n",
        "\n",
        "# plt.plot(history.history['loss'])\n",
        "# plt.plot(history.history['val_loss'])\n",
        "# plt.title('model loss')\n",
        "# plt.ylabel('loss')\n",
        "# plt.xlabel('epoch')\n",
        "# plt.legend(['train', 'validation'], loc='upper left')\n",
        "# plt.show()\n",
        "\n",
        "print(\"TEST SET\",ft_model.evaluate(X_test, df_test['class']))"
      ],
      "id": "iOeL1v8cg5OQ",
      "execution_count": null,
      "outputs": [
        {
          "output_type": "stream",
          "name": "stdout",
          "text": [
            "(None, 53, 300)\n",
            "Model: \"model_33\"\n",
            "_________________________________________________________________\n",
            "Layer (type)                 Output Shape              Param #   \n",
            "=================================================================\n",
            "input_28 (InputLayer)        [(None, 53)]              0         \n",
            "_________________________________________________________________\n",
            "embedding_17 (Embedding)     (None, 53, 300)           5030400   \n",
            "_________________________________________________________________\n",
            "reshape_49 (Reshape)         (None, 53, 300, 1)        0         \n",
            "_________________________________________________________________\n",
            "concatenate_9 (Concatenate)  (None, 53, 300, 1)        0         \n",
            "_________________________________________________________________\n",
            "reshape_50 (Reshape)         (None, 53, 300)           0         \n",
            "_________________________________________________________________\n",
            "lstm_13 (LSTM)               (None, 53, 128)           219648    \n",
            "_________________________________________________________________\n",
            "lstm_14 (LSTM)               (None, 32)                20608     \n",
            "_________________________________________________________________\n",
            "dense_23 (Dense)             (None, 2)                 66        \n",
            "=================================================================\n",
            "Total params: 5,270,722\n",
            "Trainable params: 240,322\n",
            "Non-trainable params: 5,030,400\n",
            "_________________________________________________________________\n",
            "Epoch 1/10\n",
            "127/127 [==============================] - 8s 39ms/step - loss: 0.6423 - accuracy: 0.6232 - val_loss: 1.1068 - val_accuracy: 0.3644\n",
            "Epoch 2/10\n",
            "127/127 [==============================] - 4s 32ms/step - loss: 0.5420 - accuracy: 0.7221 - val_loss: 0.3451 - val_accuracy: 0.9211\n",
            "Epoch 3/10\n",
            "127/127 [==============================] - 4s 32ms/step - loss: 0.5125 - accuracy: 0.7425 - val_loss: 0.5101 - val_accuracy: 0.7644\n",
            "Epoch 4/10\n",
            "127/127 [==============================] - 4s 32ms/step - loss: 0.4927 - accuracy: 0.7540 - val_loss: 0.4567 - val_accuracy: 0.7933\n",
            "Epoch 5/10\n",
            "127/127 [==============================] - 4s 32ms/step - loss: 0.4731 - accuracy: 0.7742 - val_loss: 0.2583 - val_accuracy: 0.9144\n",
            "Epoch 6/10\n",
            "127/127 [==============================] - 4s 32ms/step - loss: 0.4645 - accuracy: 0.7746 - val_loss: 0.4526 - val_accuracy: 0.7722\n",
            "Epoch 7/10\n",
            "127/127 [==============================] - 4s 32ms/step - loss: 0.4488 - accuracy: 0.7844 - val_loss: 0.4310 - val_accuracy: 0.8256\n",
            "Epoch 8/10\n",
            "127/127 [==============================] - 4s 32ms/step - loss: 0.4366 - accuracy: 0.7951 - val_loss: 0.5433 - val_accuracy: 0.7611\n",
            "52/52 [==============================] - 1s 11ms/step - loss: 0.4748 - accuracy: 0.7659\n",
            "TEST SET [0.474774032831192, 0.7659446597099304]\n"
          ]
        }
      ]
    }
  ]
}